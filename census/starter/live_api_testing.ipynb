{
 "cells": [
  {
   "cell_type": "code",
   "execution_count": 23,
   "id": "df0ea710-2749-4d84-8d40-82ab6c7b3e11",
   "metadata": {},
   "outputs": [],
   "source": [
    "import requests"
   ]
  },
  {
   "cell_type": "code",
   "execution_count": 45,
   "id": "9ca1177c-ac79-46e2-bdfa-d36eeee8a21b",
   "metadata": {},
   "outputs": [
    {
     "name": "stdout",
     "output_type": "stream",
     "text": [
      "Testing get request\n",
      "200\n",
      "{'message': 'Hello!'}\n",
      "\n",
      "\n",
      "\n",
      "Testing post request\n",
      "200\n",
      "{'predictions': ['>50K']}\n"
     ]
    }
   ],
   "source": [
    "api_url = \"http://127.0.0.1:8000\" # local\n",
    "# api_url = \"https://census-prediction-api.herokuapp.com\" # live\n",
    "\n",
    "# test get request\n",
    "print(\"Testing get request\")\n",
    "r = requests.get(url=api_url)\n",
    "print(r.status_code)\n",
    "print(r.json())\n",
    "\n",
    "print(\"\\n\\n\")\n",
    "print(\"Testing post request\")\n",
    "request_data = {\n",
    "    \"age\": 39,\n",
    "    \"workclass\": \"State-gov\",\n",
    "    \"fnlgt\": 77516,\n",
    "    \"education\": \"Bachelors\",\n",
    "    \"education-num\": 13,\n",
    "    \"marital-status\": \"Never-married\",\n",
    "    \"occupation\": \"Adm-clerical\",\n",
    "    \"relationship\": \"Not-in-family\",\n",
    "    \"race\": \"White\",\n",
    "    \"sex\": \"Male\",\n",
    "    \"capital-gain\": 2174,\n",
    "    \"capital-loss\": 0,\n",
    "    \"hours-per-week\": 40,\n",
    "    \"native-country\": \"United-States\",\n",
    "}\n",
    "\n",
    "\n",
    "r = requests.post(url=f\"{api_url}/prediction/\", json = request_data)\n",
    "print(r.status_code)\n",
    "print(r.json())"
   ]
  }
 ],
 "metadata": {
  "kernelspec": {
   "display_name": "Python 3",
   "language": "python",
   "name": "python3"
  },
  "language_info": {
   "codemirror_mode": {
    "name": "ipython",
    "version": 3
   },
   "file_extension": ".py",
   "mimetype": "text/x-python",
   "name": "python",
   "nbconvert_exporter": "python",
   "pygments_lexer": "ipython3",
   "version": "3.8.8"
  }
 },
 "nbformat": 4,
 "nbformat_minor": 5
}
